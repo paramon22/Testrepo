{
 "cells": [
  {
   "cell_type": "markdown",
   "id": "9bddd6db",
   "metadata": {},
   "source": [
    "# Python Project for Data Science\n",
    "## Peer-graded Assignment"
   ]
  },
  {
   "cell_type": "markdown",
   "id": "554eee55",
   "metadata": {},
   "source": [
    "## Question 4 - Extracting GameStop Revenue Data Using Webscraping "
   ]
  },
  {
   "cell_type": "code",
   "execution_count": 38,
   "id": "5577fe21",
   "metadata": {},
   "outputs": [],
   "source": [
    "import pandas as pd\n",
    "from bs4 import BeautifulSoup"
   ]
  },
  {
   "cell_type": "code",
   "execution_count": 39,
   "id": "d0f8c736",
   "metadata": {},
   "outputs": [
    {
     "data": {
      "text/plain": [
       "'https://www.macrotrends.net/stocks/charts/GME/GameStop/revenue'"
      ]
     },
     "execution_count": 39,
     "metadata": {},
     "output_type": "execute_result"
    }
   ],
   "source": [
    "# Enter a stock symbol\n",
    "#ticker = \"GME\"  # URL link \n",
    "url = \"https://www.macrotrends.net/stocks/charts/GME/GameStop/revenue\"\n",
    "url"
   ]
  },
  {
   "cell_type": "code",
   "execution_count": 40,
   "id": "e16ab289",
   "metadata": {},
   "outputs": [],
   "source": [
    "# Read all HTML tables from specific URL\n",
    "table = pd.read_html(url)\n",
    "\n",
    "# Display total number of tables read\n",
    "len(table)\n",
    "table\n",
    "\n",
    "# Create DataFrames for annual revenue\n",
    "df_annual = table[0]\n",
    "df_annual.columns = ['Year','Annual Revenue ($M)']"
   ]
  },
  {
   "cell_type": "code",
   "execution_count": 41,
   "id": "d398c2dd",
   "metadata": {
    "scrolled": true
   },
   "outputs": [
    {
     "name": "stdout",
     "output_type": "stream",
     "text": [
      " Year Annual Revenue ($M)\n",
      " 2023              $5,927\n",
      " 2022              $6,011\n",
      " 2021              $5,090\n",
      " 2020              $6,466\n",
      " 2019              $8,285\n",
      " 2018              $8,547\n",
      " 2017              $7,965\n",
      " 2016              $9,364\n",
      " 2015              $9,296\n",
      " 2014              $9,040\n",
      " 2013              $8,887\n",
      " 2012              $9,551\n",
      " 2011              $9,474\n",
      " 2010              $9,078\n",
      " 2009              $8,806\n"
     ]
    }
   ],
   "source": [
    "# Filter DataFrame to contain only two first columns\n",
    "# Print annual revenue without index column\n",
    "df_annual.iloc[:, 0:2]\n",
    "print(df_annual.to_string(index=False))"
   ]
  },
  {
   "cell_type": "code",
   "execution_count": 42,
   "id": "36de78b0",
   "metadata": {},
   "outputs": [
    {
     "name": "stdout",
     "output_type": "stream",
     "text": [
      "   Quarter Quartetly Revenue ($M)\n",
      "2023-01-31                 $2,226\n",
      "2022-10-31                 $1,186\n",
      "2022-07-31                 $1,136\n",
      "2022-04-30                 $1,378\n",
      "2022-01-31                 $2,254\n",
      "2021-10-31                 $1,297\n",
      "2021-07-31                 $1,183\n",
      "2021-04-30                 $1,277\n",
      "2021-01-31                 $2,122\n",
      "2020-10-31                 $1,005\n",
      "2020-07-31                   $942\n",
      "2020-04-30                 $1,021\n",
      "2020-01-31                 $2,194\n",
      "2019-10-31                 $1,439\n",
      "2019-07-31                 $1,286\n",
      "2019-04-30                 $1,548\n",
      "2019-01-31                 $3,063\n",
      "2018-10-31                 $1,935\n",
      "2018-07-31                 $1,501\n",
      "2018-04-30                 $1,786\n",
      "2018-01-31                 $2,825\n",
      "2017-10-31                 $1,989\n",
      "2017-07-31                 $1,688\n",
      "2017-04-30                 $2,046\n",
      "2017-01-31                 $2,403\n",
      "2016-10-31                 $1,959\n",
      "2016-07-31                 $1,632\n",
      "2016-04-30                 $1,972\n",
      "2016-01-31                 $3,525\n",
      "2015-10-31                 $2,016\n",
      "2015-07-31                 $1,762\n",
      "2015-04-30                 $2,061\n",
      "2015-01-31                 $3,476\n",
      "2014-10-31                 $2,092\n",
      "2014-07-31                 $1,731\n",
      "2014-04-30                 $1,996\n",
      "2014-01-31                 $3,684\n",
      "2013-10-31                 $2,107\n",
      "2013-07-31                 $1,384\n",
      "2013-04-30                 $1,865\n",
      "2013-01-31                 $3,562\n",
      "2012-10-31                 $1,773\n",
      "2012-07-31                 $1,550\n",
      "2012-04-30                 $2,002\n",
      "2012-01-31                 $3,579\n",
      "2011-10-31                 $1,947\n",
      "2011-07-31                 $1,744\n",
      "2011-04-30                 $2,281\n",
      "2011-01-31                 $3,693\n",
      "2010-10-31                 $1,899\n",
      "2010-07-31                 $1,799\n",
      "2010-04-30                 $2,083\n",
      "2010-01-31                 $3,524\n",
      "2009-10-31                 $1,835\n",
      "2009-07-31                 $1,739\n",
      "2009-04-30                 $1,981\n",
      "2009-01-31                 $3,492\n"
     ]
    }
   ],
   "source": [
    "# Create DataFrames for quarterly revenue\n",
    "df_quarterly = table[1]\n",
    "df_quarterly.columns = ['Quarter','Quartetly Revenue ($M)']\n",
    "# Filter DataFrame to contain only two first columns\n",
    "# Print quarterly revenue without index coliumn\n",
    "df_quarterly.iloc[:, 0:2]\n",
    "print(df_quarterly.to_string(index=False))"
   ]
  },
  {
   "cell_type": "code",
   "execution_count": null,
   "id": "5e1c133e",
   "metadata": {},
   "outputs": [],
   "source": []
  }
 ],
 "metadata": {
  "kernelspec": {
   "display_name": "Python 3 (ipykernel)",
   "language": "python",
   "name": "python3"
  },
  "language_info": {
   "codemirror_mode": {
    "name": "ipython",
    "version": 3
   },
   "file_extension": ".py",
   "mimetype": "text/x-python",
   "name": "python",
   "nbconvert_exporter": "python",
   "pygments_lexer": "ipython3",
   "version": "3.9.13"
  }
 },
 "nbformat": 4,
 "nbformat_minor": 5
}
