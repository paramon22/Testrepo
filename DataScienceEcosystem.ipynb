{
 "cells": [
  {
   "cell_type": "markdown",
   "id": "131eef8e",
   "metadata": {},
   "source": [
    "# Data Science Tools and Ecosystem"
   ]
  },
  {
   "cell_type": "markdown",
   "id": "5cbbd950",
   "metadata": {},
   "source": [
    "## Author\n",
    "Sergey Aityan"
   ]
  },
  {
   "cell_type": "markdown",
   "id": "d25b5d02",
   "metadata": {},
   "source": [
    "In this notebook, Data Science Tools and Ecosystem are summarized."
   ]
  },
  {
   "cell_type": "markdown",
   "id": "b6ca260e",
   "metadata": {},
   "source": [
    "**Objectives:**\n",
    "* To become familiar with major data science tools\n",
    "* To become familiar with major data science languages such as Python and R\n",
    "* To become familiar with major environments\n",
    "* To lean code sharing and versioning environment\n",
    "* To start getting hands-on excperience with data science tools"
   ]
  },
  {
   "cell_type": "markdown",
   "id": "72b01f6b",
   "metadata": {},
   "source": [
    "Some of the popular languages that Data Scientists use are:\n",
    "1. Python\n",
    "2. C++\n",
    "3. Julia\n",
    "4. and others"
   ]
  },
  {
   "cell_type": "code",
   "execution_count": 29,
   "id": "7a1b077f",
   "metadata": {},
   "outputs": [
    {
     "name": "stdout",
     "output_type": "stream",
     "text": [
      "1. Python\n",
      "2. C++\n",
      "3. Julia\n",
      "4. and others\n"
     ]
    }
   ],
   "source": [
    "# Below is a numbered list of languages for Data science written using Python code (previous exercise)\n",
    "languages = [\"Python\",\"C++\",\"Julia\",\"and others\"]\n",
    "for index, value in enumerate(languages, 1):\n",
    "    print(\"{}. {}\".format(index, value))"
   ]
  },
  {
   "cell_type": "markdown",
   "id": "9965c68f",
   "metadata": {},
   "source": [
    "Some of the commonly used libraries used by Data Scientists include:\n",
    "1. Pandas\n",
    "2. NumPy\n",
    "3. SciPy\n",
    "4. MatPlotLib\n",
    "5. and many others"
   ]
  },
  {
   "cell_type": "markdown",
   "id": "4c9087b6",
   "metadata": {},
   "source": [
    "|Data Science Tools|\n",
    "|---|\n",
    "|Jupyter Notebook|\n",
    "|JupyterLab|\n",
    "|VS Code|"
   ]
  },
  {
   "cell_type": "markdown",
   "id": "034b1cf3",
   "metadata": {},
   "source": [
    "### Below are a few examples of evaluating arithmetic expressions in Python:\n",
    "    "
   ]
  },
  {
   "cell_type": "code",
   "execution_count": 30,
   "id": "df74f344",
   "metadata": {},
   "outputs": [
    {
     "data": {
      "text/plain": [
       "17"
      ]
     },
     "execution_count": 30,
     "metadata": {},
     "output_type": "execute_result"
    }
   ],
   "source": [
    "# expression to mutiply then add integers\n",
    "(3*4)+5"
   ]
  },
  {
   "cell_type": "code",
   "execution_count": 37,
   "id": "61f7e0a6",
   "metadata": {},
   "outputs": [
    {
     "data": {
      "text/plain": [
       "3.3333333333333335"
      ]
     },
     "execution_count": 37,
     "metadata": {},
     "output_type": "execute_result"
    }
   ],
   "source": [
    "# This will convert 200 minutes to hours by diving by 60\n",
    "200/60"
   ]
  },
  {
   "cell_type": "code",
   "execution_count": null,
   "id": "fbb69668",
   "metadata": {},
   "outputs": [],
   "source": [
    "# This will convert 200 minutes to hours by diving by 60\n",
    "min_in_hour = 60\n",
    "minutes = 200\n",
    "hours = minutes/min_in_hour\n",
    "print(\"{} minutes is approximately {:.6} hours\".format(minutes,hours))"
   ]
  }
 ],
 "metadata": {
  "kernelspec": {
   "display_name": "Python 3 (ipykernel)",
   "language": "python",
   "name": "python3"
  },
  "language_info": {
   "codemirror_mode": {
    "name": "ipython",
    "version": 3
   },
   "file_extension": ".py",
   "mimetype": "text/x-python",
   "name": "python",
   "nbconvert_exporter": "python",
   "pygments_lexer": "ipython3",
   "version": "3.9.13"
  }
 },
 "nbformat": 4,
 "nbformat_minor": 5
}
