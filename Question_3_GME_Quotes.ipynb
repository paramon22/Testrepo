{
 "cells": [
  {
   "cell_type": "markdown",
   "id": "9bddd6db",
   "metadata": {},
   "source": [
    "# Python Project for Data Science\n",
    "## Peer-graded Assignment"
   ]
  },
  {
   "cell_type": "markdown",
   "id": "f2ce7805",
   "metadata": {},
   "source": [
    "## Question 3 - Extracting GameStop Stock Data Using yfinance"
   ]
  },
  {
   "cell_type": "markdown",
   "id": "6480d597",
   "metadata": {},
   "source": [
    "Installing yfinance and importing the appropriate libraries"
   ]
  },
  {
   "cell_type": "code",
   "execution_count": 1,
   "id": "68cfed0e",
   "metadata": {
    "scrolled": true
   },
   "outputs": [
    {
     "name": "stdout",
     "output_type": "stream",
     "text": [
      "Defaulting to user installation because normal site-packages is not writeable\n",
      "Requirement already satisfied: yfinance==0.2.4 in c:\\users\\serge\\appdata\\roaming\\python\\python39\\site-packages (0.2.4)\n",
      "Requirement already satisfied: cryptography>=3.3.2 in c:\\programdata\\anaconda3\\lib\\site-packages (from yfinance==0.2.4) (37.0.1)\n",
      "Requirement already satisfied: multitasking>=0.0.7 in c:\\users\\serge\\appdata\\roaming\\python\\python39\\site-packages (from yfinance==0.2.4) (0.0.11)\n",
      "Requirement already satisfied: frozendict>=2.3.4 in c:\\users\\serge\\appdata\\roaming\\python\\python39\\site-packages (from yfinance==0.2.4) (2.3.7)\n",
      "Requirement already satisfied: beautifulsoup4>=4.11.1 in c:\\programdata\\anaconda3\\lib\\site-packages (from yfinance==0.2.4) (4.11.1)\n",
      "Requirement already satisfied: pandas>=1.3.0 in c:\\users\\serge\\appdata\\roaming\\python\\python39\\site-packages (from yfinance==0.2.4) (1.3.3)\n",
      "Requirement already satisfied: numpy>=1.16.5 in c:\\programdata\\anaconda3\\lib\\site-packages (from yfinance==0.2.4) (1.21.5)\n",
      "Requirement already satisfied: html5lib>=1.1 in c:\\users\\serge\\appdata\\roaming\\python\\python39\\site-packages (from yfinance==0.2.4) (1.1)\n",
      "Requirement already satisfied: appdirs>=1.4.4 in c:\\programdata\\anaconda3\\lib\\site-packages (from yfinance==0.2.4) (1.4.4)\n",
      "Requirement already satisfied: pytz>=2022.5 in c:\\users\\serge\\appdata\\roaming\\python\\python39\\site-packages (from yfinance==0.2.4) (2023.3)\n",
      "Requirement already satisfied: requests>=2.26 in c:\\programdata\\anaconda3\\lib\\site-packages (from yfinance==0.2.4) (2.28.1)\n",
      "Requirement already satisfied: lxml>=4.9.1 in c:\\programdata\\anaconda3\\lib\\site-packages (from yfinance==0.2.4) (4.9.1)\n",
      "Requirement already satisfied: soupsieve>1.2 in c:\\programdata\\anaconda3\\lib\\site-packages (from beautifulsoup4>=4.11.1->yfinance==0.2.4) (2.3.1)\n",
      "Requirement already satisfied: cffi>=1.12 in c:\\programdata\\anaconda3\\lib\\site-packages (from cryptography>=3.3.2->yfinance==0.2.4) (1.15.1)\n",
      "Requirement already satisfied: webencodings in c:\\programdata\\anaconda3\\lib\\site-packages (from html5lib>=1.1->yfinance==0.2.4) (0.5.1)\n",
      "Requirement already satisfied: six>=1.9 in c:\\programdata\\anaconda3\\lib\\site-packages (from html5lib>=1.1->yfinance==0.2.4) (1.16.0)\n",
      "Requirement already satisfied: python-dateutil>=2.7.3 in c:\\programdata\\anaconda3\\lib\\site-packages (from pandas>=1.3.0->yfinance==0.2.4) (2.8.2)\n",
      "Requirement already satisfied: certifi>=2017.4.17 in c:\\programdata\\anaconda3\\lib\\site-packages (from requests>=2.26->yfinance==0.2.4) (2022.9.14)\n",
      "Requirement already satisfied: charset-normalizer<3,>=2 in c:\\programdata\\anaconda3\\lib\\site-packages (from requests>=2.26->yfinance==0.2.4) (2.0.4)\n",
      "Requirement already satisfied: urllib3<1.27,>=1.21.1 in c:\\programdata\\anaconda3\\lib\\site-packages (from requests>=2.26->yfinance==0.2.4) (1.26.11)\n",
      "Requirement already satisfied: idna<4,>=2.5 in c:\\programdata\\anaconda3\\lib\\site-packages (from requests>=2.26->yfinance==0.2.4) (3.3)\n",
      "Requirement already satisfied: pycparser in c:\\programdata\\anaconda3\\lib\\site-packages (from cffi>=1.12->cryptography>=3.3.2->yfinance==0.2.4) (2.21)\n"
     ]
    }
   ],
   "source": [
    "!pip install yfinance==0.2.4\n",
    "import matplotlib.pyplot as plt"
   ]
  },
  {
   "cell_type": "code",
   "execution_count": 3,
   "id": "8371439d",
   "metadata": {},
   "outputs": [],
   "source": [
    "import yfinance as yf\n",
    "import pandas as pd\n",
    "#import json"
   ]
  },
  {
   "cell_type": "code",
   "execution_count": 5,
   "id": "8f0027ae",
   "metadata": {},
   "outputs": [
    {
     "name": "stdout",
     "output_type": "stream",
     "text": [
      "yfinance.Ticker object <GME>\n"
     ]
    }
   ],
   "source": [
    "# Instance of a yf.Ticker object for GME\n",
    "ticker_name = \"GME\"\n",
    "stock=yf.Ticker(ticker_name)\n",
    "print(stock)"
   ]
  },
  {
   "cell_type": "markdown",
   "id": "0f02c87b",
   "metadata": {},
   "source": [
    "#### Historical Stock Prices for GME"
   ]
  },
  {
   "cell_type": "code",
   "execution_count": 9,
   "id": "adbfc30a",
   "metadata": {
    "scrolled": true
   },
   "outputs": [
    {
     "data": {
      "text/html": [
       "<div>\n",
       "<style scoped>\n",
       "    .dataframe tbody tr th:only-of-type {\n",
       "        vertical-align: middle;\n",
       "    }\n",
       "\n",
       "    .dataframe tbody tr th {\n",
       "        vertical-align: top;\n",
       "    }\n",
       "\n",
       "    .dataframe thead th {\n",
       "        text-align: right;\n",
       "    }\n",
       "</style>\n",
       "<table border=\"1\" class=\"dataframe\">\n",
       "  <thead>\n",
       "    <tr style=\"text-align: right;\">\n",
       "      <th></th>\n",
       "      <th>Open</th>\n",
       "      <th>High</th>\n",
       "      <th>Low</th>\n",
       "      <th>Close</th>\n",
       "      <th>Volume</th>\n",
       "      <th>Dividends</th>\n",
       "      <th>Stock Splits</th>\n",
       "    </tr>\n",
       "    <tr>\n",
       "      <th>Date</th>\n",
       "      <th></th>\n",
       "      <th></th>\n",
       "      <th></th>\n",
       "      <th></th>\n",
       "      <th></th>\n",
       "      <th></th>\n",
       "      <th></th>\n",
       "    </tr>\n",
       "  </thead>\n",
       "  <tbody>\n",
       "    <tr>\n",
       "      <th>2023-03-22 00:00:00-04:00</th>\n",
       "      <td>26.600000</td>\n",
       "      <td>27.000000</td>\n",
       "      <td>23.049999</td>\n",
       "      <td>23.870001</td>\n",
       "      <td>66764700</td>\n",
       "      <td>0.0</td>\n",
       "      <td>0.0</td>\n",
       "    </tr>\n",
       "    <tr>\n",
       "      <th>2023-03-23 00:00:00-04:00</th>\n",
       "      <td>22.570000</td>\n",
       "      <td>24.590000</td>\n",
       "      <td>22.129999</td>\n",
       "      <td>22.580000</td>\n",
       "      <td>11168900</td>\n",
       "      <td>0.0</td>\n",
       "      <td>0.0</td>\n",
       "    </tr>\n",
       "    <tr>\n",
       "      <th>2023-03-24 00:00:00-04:00</th>\n",
       "      <td>22.320000</td>\n",
       "      <td>23.990000</td>\n",
       "      <td>22.100000</td>\n",
       "      <td>23.980000</td>\n",
       "      <td>8756400</td>\n",
       "      <td>0.0</td>\n",
       "      <td>0.0</td>\n",
       "    </tr>\n",
       "    <tr>\n",
       "      <th>2023-03-27 00:00:00-04:00</th>\n",
       "      <td>23.990000</td>\n",
       "      <td>24.010000</td>\n",
       "      <td>22.690001</td>\n",
       "      <td>23.000000</td>\n",
       "      <td>4580800</td>\n",
       "      <td>0.0</td>\n",
       "      <td>0.0</td>\n",
       "    </tr>\n",
       "    <tr>\n",
       "      <th>2023-03-28 00:00:00-04:00</th>\n",
       "      <td>22.969999</td>\n",
       "      <td>23.540001</td>\n",
       "      <td>22.219999</td>\n",
       "      <td>23.150000</td>\n",
       "      <td>5711700</td>\n",
       "      <td>0.0</td>\n",
       "      <td>0.0</td>\n",
       "    </tr>\n",
       "  </tbody>\n",
       "</table>\n",
       "</div>"
      ],
      "text/plain": [
       "                                Open       High        Low      Close  \\\n",
       "Date                                                                    \n",
       "2023-03-22 00:00:00-04:00  26.600000  27.000000  23.049999  23.870001   \n",
       "2023-03-23 00:00:00-04:00  22.570000  24.590000  22.129999  22.580000   \n",
       "2023-03-24 00:00:00-04:00  22.320000  23.990000  22.100000  23.980000   \n",
       "2023-03-27 00:00:00-04:00  23.990000  24.010000  22.690001  23.000000   \n",
       "2023-03-28 00:00:00-04:00  22.969999  23.540001  22.219999  23.150000   \n",
       "\n",
       "                             Volume  Dividends  Stock Splits  \n",
       "Date                                                          \n",
       "2023-03-22 00:00:00-04:00  66764700        0.0           0.0  \n",
       "2023-03-23 00:00:00-04:00  11168900        0.0           0.0  \n",
       "2023-03-24 00:00:00-04:00   8756400        0.0           0.0  \n",
       "2023-03-27 00:00:00-04:00   4580800        0.0           0.0  \n",
       "2023-03-28 00:00:00-04:00   5711700        0.0           0.0  "
      ]
     },
     "execution_count": 9,
     "metadata": {},
     "output_type": "execute_result"
    }
   ],
   "source": [
    "# Retrieving historical information for GME\n",
    "stock.history(\"max\")\n",
    "data=stock.history()\n",
    "# Printing the head(), i.e. 5 first lines\n",
    "data.head()"
   ]
  },
  {
   "cell_type": "code",
   "execution_count": null,
   "id": "5e605665",
   "metadata": {},
   "outputs": [],
   "source": []
  }
 ],
 "metadata": {
  "kernelspec": {
   "display_name": "Python 3 (ipykernel)",
   "language": "python",
   "name": "python3"
  },
  "language_info": {
   "codemirror_mode": {
    "name": "ipython",
    "version": 3
   },
   "file_extension": ".py",
   "mimetype": "text/x-python",
   "name": "python",
   "nbconvert_exporter": "python",
   "pygments_lexer": "ipython3",
   "version": "3.9.13"
  }
 },
 "nbformat": 4,
 "nbformat_minor": 5
}
