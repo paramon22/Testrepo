{
 "cells": [
  {
   "cell_type": "markdown",
   "id": "9bddd6db",
   "metadata": {},
   "source": [
    "# Python Project for Data Science\n",
    "## Peer-graded Assignment"
   ]
  },
  {
   "cell_type": "markdown",
   "id": "554eee55",
   "metadata": {},
   "source": [
    "## Question 2 - Extracting Tesla Revenue Data Using Webscraping "
   ]
  },
  {
   "cell_type": "code",
   "execution_count": 30,
   "id": "5577fe21",
   "metadata": {},
   "outputs": [],
   "source": [
    "import pandas as pd\n",
    "from bs4 import BeautifulSoup"
   ]
  },
  {
   "cell_type": "code",
   "execution_count": 31,
   "id": "d0f8c736",
   "metadata": {},
   "outputs": [
    {
     "data": {
      "text/plain": [
       "'https://www.macrotrends.net/stocks/charts/TSLA/tesla/revenue'"
      ]
     },
     "execution_count": 31,
     "metadata": {},
     "output_type": "execute_result"
    }
   ],
   "source": [
    "# Enter a stock symbol\n",
    "#ticker = \"TSLA\"  # URL link \n",
    "url = \"https://www.macrotrends.net/stocks/charts/TSLA/tesla/revenue\"\n",
    "url"
   ]
  },
  {
   "cell_type": "code",
   "execution_count": 34,
   "id": "e16ab289",
   "metadata": {},
   "outputs": [],
   "source": [
    "# Read all HTML tables from specific URL\n",
    "table = pd.read_html(url)\n",
    "\n",
    "# Display total number of tables read\n",
    "len(table)\n",
    "table\n",
    "\n",
    "# Create DataFrames for annual revenue\n",
    "df_annual = table[0]\n",
    "df_annual.columns = ['Year','Annual Revenue ($M)']"
   ]
  },
  {
   "cell_type": "code",
   "execution_count": 37,
   "id": "d398c2dd",
   "metadata": {
    "scrolled": true
   },
   "outputs": [
    {
     "name": "stdout",
     "output_type": "stream",
     "text": [
      " Year Annual Revenue ($M)\n",
      " 2022             $81,462\n",
      " 2021             $53,823\n",
      " 2020             $31,536\n",
      " 2019             $24,578\n",
      " 2018             $21,461\n",
      " 2017             $11,759\n",
      " 2016              $7,000\n",
      " 2015              $4,046\n",
      " 2014              $3,198\n",
      " 2013              $2,013\n",
      " 2012                $413\n",
      " 2011                $204\n",
      " 2010                $117\n",
      " 2009                $112\n"
     ]
    }
   ],
   "source": [
    "# Filter DataFrame to contain only two first columns\n",
    "# Print annual revenue without index column\n",
    "df_annual.iloc[:, 0:2]\n",
    "print(df_annual.to_string(index=False))"
   ]
  },
  {
   "cell_type": "code",
   "execution_count": 36,
   "id": "36de78b0",
   "metadata": {},
   "outputs": [
    {
     "name": "stdout",
     "output_type": "stream",
     "text": [
      "   Quarter Quartetly Revenue ($M)\n",
      "2023-03-31                $23,329\n",
      "2022-12-31                $24,318\n",
      "2022-09-30                $21,454\n",
      "2022-06-30                $16,934\n",
      "2022-03-31                $18,756\n",
      "2021-12-31                $17,719\n",
      "2021-09-30                $13,757\n",
      "2021-06-30                $11,958\n",
      "2021-03-31                $10,389\n",
      "2020-12-31                $10,744\n",
      "2020-09-30                 $8,771\n",
      "2020-06-30                 $6,036\n",
      "2020-03-31                 $5,985\n",
      "2019-12-31                 $7,384\n",
      "2019-09-30                 $6,303\n",
      "2019-06-30                 $6,350\n",
      "2019-03-31                 $4,541\n",
      "2018-12-31                 $7,226\n",
      "2018-09-30                 $6,824\n",
      "2018-06-30                 $4,002\n",
      "2018-03-31                 $3,409\n",
      "2017-12-31                 $3,288\n",
      "2017-09-30                 $2,985\n",
      "2017-06-30                 $2,790\n",
      "2017-03-31                 $2,696\n",
      "2016-12-31                 $2,285\n",
      "2016-09-30                 $2,298\n",
      "2016-06-30                 $1,270\n",
      "2016-03-31                 $1,147\n",
      "2015-12-31                 $1,214\n",
      "2015-09-30                   $937\n",
      "2015-06-30                   $955\n",
      "2015-03-31                   $940\n",
      "2014-12-31                   $957\n",
      "2014-09-30                   $852\n",
      "2014-06-30                   $769\n",
      "2014-03-31                   $621\n",
      "2013-12-31                   $615\n",
      "2013-09-30                   $431\n",
      "2013-06-30                   $405\n",
      "2013-03-31                   $562\n",
      "2012-12-31                   $306\n",
      "2012-09-30                    $50\n",
      "2012-06-30                    $27\n",
      "2012-03-31                    $30\n",
      "2011-12-31                    $39\n",
      "2011-09-30                    $58\n",
      "2011-06-30                    $58\n",
      "2011-03-31                    $49\n",
      "2010-12-31                    $36\n",
      "2010-09-30                    $31\n",
      "2010-06-30                    $28\n",
      "2010-03-31                    $21\n",
      "2009-12-31                    NaN\n",
      "2009-09-30                    $46\n",
      "2009-06-30                    $27\n"
     ]
    }
   ],
   "source": [
    "# Create DataFrames for quarterly revenue\n",
    "df_quarterly = table[1]\n",
    "df_quarterly.columns = ['Quarter','Quartetly Revenue ($M)']\n",
    "# Filter DataFrame to contain only two first columns\n",
    "# Print quarterly revenue without index coliumn\n",
    "df_quarterly.iloc[:, 0:2]\n",
    "print(df_quarterly.to_string(index=False))"
   ]
  },
  {
   "cell_type": "code",
   "execution_count": null,
   "id": "5e1c133e",
   "metadata": {},
   "outputs": [],
   "source": []
  }
 ],
 "metadata": {
  "kernelspec": {
   "display_name": "Python 3 (ipykernel)",
   "language": "python",
   "name": "python3"
  },
  "language_info": {
   "codemirror_mode": {
    "name": "ipython",
    "version": 3
   },
   "file_extension": ".py",
   "mimetype": "text/x-python",
   "name": "python",
   "nbconvert_exporter": "python",
   "pygments_lexer": "ipython3",
   "version": "3.9.13"
  }
 },
 "nbformat": 4,
 "nbformat_minor": 5
}
